{
  "nbformat": 4,
  "nbformat_minor": 0,
  "metadata": {
    "colab": {
      "provenance": [],
      "include_colab_link": true
    },
    "kernelspec": {
      "name": "python3",
      "display_name": "Python 3"
    }
  },
  "cells": [
    {
      "cell_type": "markdown",
      "metadata": {
        "id": "view-in-github",
        "colab_type": "text"
      },
      "source": [
        "<a href=\"https://colab.research.google.com/github/Shinhunjun/Data-Analysis_Study/blob/main/%5B%E1%84%92%E1%85%A2%E1%84%89%E1%85%A5%E1%86%AF%5DCh04_python%E1%84%8B%E1%85%A7%E1%86%AB%E1%84%89%E1%85%A1%E1%86%AB%E1%84%8C%E1%85%A1.ipynb\" target=\"_parent\"><img src=\"https://colab.research.google.com/assets/colab-badge.svg\" alt=\"Open In Colab\"/></a>"
      ]
    },
    {
      "cell_type": "markdown",
      "metadata": {
        "id": "jqa_7SA3jzYX"
      },
      "source": [
        "## 1. 연산"
      ]
    },
    {
      "cell_type": "markdown",
      "metadata": {
        "id": "LltjCE7kj5kA"
      },
      "source": [
        "Excel에서도 **sum이나 +, -** 기호로 셀과 셀 단위, 열과 열단위, 행과 행단위 연산이 가능합니다.\n",
        "\n",
        "python에서도 마찬가지로 사칙 연산외 다양한 통계 연산 기능을 기본으로 제공해 줍니다.\n",
        "(**사용법도 물론 매우 쉽습니다^^**)"
      ]
    },
    {
      "cell_type": "markdown",
      "metadata": {
        "id": "xRX1SSoskTdo"
      },
      "source": [
        "## 2. 사칙연산 (+, -, /, *)"
      ]
    },
    {
      "cell_type": "markdown",
      "metadata": {
        "id": "EFebGxnjkXwr"
      },
      "source": [
        "* 더하기 (+)\n",
        "* 빼기 (-)\n",
        "* 나누기 (/)\n",
        "* 곱하기 (*)"
      ]
    },
    {
      "cell_type": "code",
      "metadata": {
        "id": "Ks6gjRfkkt9I"
      },
      "source": [
        "a = 10\n",
        "b = 3"
      ],
      "execution_count": 1,
      "outputs": []
    },
    {
      "cell_type": "markdown",
      "metadata": {
        "id": "8DshdUKZkoeX"
      },
      "source": [
        "### 더하기"
      ]
    },
    {
      "cell_type": "code",
      "metadata": {
        "id": "GRJdclDnkl0v",
        "outputId": "b9805106-7d40-485b-806f-aa5cd8e4a211",
        "colab": {
          "base_uri": "https://localhost:8080/"
        }
      },
      "source": [
        "a + b"
      ],
      "execution_count": 2,
      "outputs": [
        {
          "output_type": "execute_result",
          "data": {
            "text/plain": [
              "13"
            ]
          },
          "metadata": {},
          "execution_count": 2
        }
      ]
    },
    {
      "cell_type": "code",
      "metadata": {
        "id": "M3NXutOf2k9O",
        "outputId": "c1141616-857b-486d-dd15-d8af6940643b",
        "colab": {
          "base_uri": "https://localhost:8080/"
        }
      },
      "source": [
        "10 + 234"
      ],
      "execution_count": 3,
      "outputs": [
        {
          "output_type": "execute_result",
          "data": {
            "text/plain": [
              "244"
            ]
          },
          "metadata": {},
          "execution_count": 3
        }
      ]
    },
    {
      "cell_type": "markdown",
      "metadata": {
        "id": "iZVY_FHJknXf"
      },
      "source": [
        "### 빼기"
      ]
    },
    {
      "cell_type": "code",
      "metadata": {
        "id": "fZtYiLERkrr0",
        "outputId": "8ace2694-14af-4b7d-f1a2-77406856e47d",
        "colab": {
          "base_uri": "https://localhost:8080/"
        }
      },
      "source": [
        "a - b"
      ],
      "execution_count": 4,
      "outputs": [
        {
          "output_type": "execute_result",
          "data": {
            "text/plain": [
              "7"
            ]
          },
          "metadata": {},
          "execution_count": 4
        }
      ]
    },
    {
      "cell_type": "markdown",
      "metadata": {
        "id": "Ofd8aJrXk0c5"
      },
      "source": [
        "### 나누기"
      ]
    },
    {
      "cell_type": "code",
      "metadata": {
        "id": "2a24yJmtk2Ha",
        "outputId": "453a3c5e-556b-42e4-b9b0-f4bc54864731",
        "colab": {
          "base_uri": "https://localhost:8080/"
        }
      },
      "source": [
        "a / b"
      ],
      "execution_count": 5,
      "outputs": [
        {
          "output_type": "execute_result",
          "data": {
            "text/plain": [
              "3.3333333333333335"
            ]
          },
          "metadata": {},
          "execution_count": 5
        }
      ]
    },
    {
      "cell_type": "markdown",
      "metadata": {
        "id": "EZP9onY-k2vf"
      },
      "source": [
        "### 곱하기"
      ]
    },
    {
      "cell_type": "code",
      "metadata": {
        "id": "MhOHnVNVk4iu",
        "outputId": "0b947b5d-5857-42cf-d7b3-db7fa599a444",
        "colab": {
          "base_uri": "https://localhost:8080/"
        }
      },
      "source": [
        "a * b"
      ],
      "execution_count": 6,
      "outputs": [
        {
          "output_type": "execute_result",
          "data": {
            "text/plain": [
              "30"
            ]
          },
          "metadata": {},
          "execution_count": 6
        }
      ]
    },
    {
      "cell_type": "markdown",
      "metadata": {
        "id": "6lkBwXXRk8Rn"
      },
      "source": [
        "## 3. 조금 생소할 수 있는 연산자 (%, //, **)"
      ]
    },
    {
      "cell_type": "markdown",
      "metadata": {
        "id": "cAmmwPb0lPD8"
      },
      "source": [
        "* %: 몫을 나눈 나머지를 구함\n",
        "* //: 나눗셈에 대한 몫을 정수형으로 구함\n",
        "* **: 제곱 연산"
      ]
    },
    {
      "cell_type": "code",
      "metadata": {
        "id": "WEGcqu2XljuA"
      },
      "source": [
        "a = 10\n",
        "b = 3"
      ],
      "execution_count": 7,
      "outputs": []
    },
    {
      "cell_type": "markdown",
      "metadata": {
        "id": "0XTyKP1Vl50Q"
      },
      "source": [
        "### %: 몫을 나눈 나머지"
      ]
    },
    {
      "cell_type": "code",
      "metadata": {
        "id": "woV-i1v5lrcP",
        "outputId": "660b0e15-d98b-40ea-aa4b-28d5cce8a3e4",
        "colab": {
          "base_uri": "https://localhost:8080/"
        }
      },
      "source": [
        "a % b"
      ],
      "execution_count": 8,
      "outputs": [
        {
          "output_type": "execute_result",
          "data": {
            "text/plain": [
              "1"
            ]
          },
          "metadata": {},
          "execution_count": 8
        }
      ]
    },
    {
      "cell_type": "markdown",
      "metadata": {
        "id": "f3JdzEiFluWK"
      },
      "source": [
        "### //: 나눗셈에 대한 몫을 정수형으로 구함"
      ]
    },
    {
      "cell_type": "code",
      "metadata": {
        "id": "r3dQQsz-3E0Y",
        "outputId": "1d05e868-953e-40fb-80a4-ba314859d52c",
        "colab": {
          "base_uri": "https://localhost:8080/"
        }
      },
      "source": [
        "a / b"
      ],
      "execution_count": 9,
      "outputs": [
        {
          "output_type": "execute_result",
          "data": {
            "text/plain": [
              "3.3333333333333335"
            ]
          },
          "metadata": {},
          "execution_count": 9
        }
      ]
    },
    {
      "cell_type": "code",
      "metadata": {
        "id": "KmmZxa_6mBWs",
        "outputId": "a75560a1-41a6-4580-d8f8-d1591acb4616",
        "colab": {
          "base_uri": "https://localhost:8080/"
        }
      },
      "source": [
        "a // b"
      ],
      "execution_count": 10,
      "outputs": [
        {
          "output_type": "execute_result",
          "data": {
            "text/plain": [
              "3"
            ]
          },
          "metadata": {},
          "execution_count": 10
        }
      ]
    },
    {
      "cell_type": "markdown",
      "metadata": {
        "id": "kgsdhcm6mCe2"
      },
      "source": [
        "### ** 제곱 연산"
      ]
    },
    {
      "cell_type": "code",
      "metadata": {
        "id": "PI2Cb9V_mFvG",
        "outputId": "dfbb4fc3-0af2-4612-e55e-81fdf7746357",
        "colab": {
          "base_uri": "https://localhost:8080/"
        }
      },
      "source": [
        "a ** b"
      ],
      "execution_count": 11,
      "outputs": [
        {
          "output_type": "execute_result",
          "data": {
            "text/plain": [
              "1000"
            ]
          },
          "metadata": {},
          "execution_count": 11
        }
      ]
    },
    {
      "cell_type": "code",
      "metadata": {
        "id": "AkltfELfmGwJ",
        "outputId": "f3f6743c-7fb1-4178-86e7-70b680241859",
        "colab": {
          "base_uri": "https://localhost:8080/"
        }
      },
      "source": [
        "10 ** 2"
      ],
      "execution_count": 12,
      "outputs": [
        {
          "output_type": "execute_result",
          "data": {
            "text/plain": [
              "100"
            ]
          },
          "metadata": {},
          "execution_count": 12
        }
      ]
    },
    {
      "cell_type": "markdown",
      "metadata": {
        "id": "vxr0cihmmIgB"
      },
      "source": [
        "## 4. 수학 연산할 때와 마찬가지로, *, /을 먼저 계산하며, 괄호 ()를 활용할 수 있습니다."
      ]
    },
    {
      "cell_type": "code",
      "metadata": {
        "id": "uHDJHp7Vmflc",
        "outputId": "3ede6259-2478-45f0-a288-9e9a098f0add",
        "colab": {
          "base_uri": "https://localhost:8080/"
        }
      },
      "source": [
        "10 + 2 * 5"
      ],
      "execution_count": 13,
      "outputs": [
        {
          "output_type": "execute_result",
          "data": {
            "text/plain": [
              "20"
            ]
          },
          "metadata": {},
          "execution_count": 13
        }
      ]
    },
    {
      "cell_type": "code",
      "metadata": {
        "id": "XkFs622Ymqwq",
        "outputId": "187207b7-595c-4082-dec9-fd06c1f00235",
        "colab": {
          "base_uri": "https://localhost:8080/"
        }
      },
      "source": [
        "(10 + 2) * 5"
      ],
      "execution_count": 14,
      "outputs": [
        {
          "output_type": "execute_result",
          "data": {
            "text/plain": [
              "60"
            ]
          },
          "metadata": {},
          "execution_count": 14
        }
      ]
    },
    {
      "cell_type": "markdown",
      "metadata": {
        "id": "pgWCFHDZN68u"
      },
      "source": [
        "## 5. 문자열의 연산"
      ]
    },
    {
      "cell_type": "code",
      "metadata": {
        "id": "dXQrylKrN7qD"
      },
      "source": [
        "a = '반갑습니다.'\n",
        "b = '테디입니다.'"
      ],
      "execution_count": 15,
      "outputs": []
    },
    {
      "cell_type": "code",
      "metadata": {
        "id": "ybm6Kk9OOAhH",
        "outputId": "9f534d18-3f88-46f3-a814-8c6bcf9d8338",
        "colab": {
          "base_uri": "https://localhost:8080/",
          "height": 36
        }
      },
      "source": [
        "a + b"
      ],
      "execution_count": 16,
      "outputs": [
        {
          "output_type": "execute_result",
          "data": {
            "text/plain": [
              "'반갑습니다.테디입니다.'"
            ],
            "application/vnd.google.colaboratory.intrinsic+json": {
              "type": "string"
            }
          },
          "metadata": {},
          "execution_count": 16
        }
      ]
    },
    {
      "cell_type": "code",
      "metadata": {
        "id": "Hesb2VIVOBpM",
        "outputId": "14def6c5-c241-4e6c-f10b-7cdaaf1abdcf",
        "colab": {
          "base_uri": "https://localhost:8080/",
          "height": 170
        }
      },
      "source": [
        "a - b"
      ],
      "execution_count": 17,
      "outputs": [
        {
          "output_type": "error",
          "ename": "TypeError",
          "evalue": "ignored",
          "traceback": [
            "\u001b[0;31m---------------------------------------------------------------------------\u001b[0m",
            "\u001b[0;31mTypeError\u001b[0m                                 Traceback (most recent call last)",
            "\u001b[0;32m<ipython-input-17-09bd029d0285>\u001b[0m in \u001b[0;36m<cell line: 1>\u001b[0;34m()\u001b[0m\n\u001b[0;32m----> 1\u001b[0;31m \u001b[0ma\u001b[0m \u001b[0;34m-\u001b[0m \u001b[0mb\u001b[0m\u001b[0;34m\u001b[0m\u001b[0;34m\u001b[0m\u001b[0m\n\u001b[0m",
            "\u001b[0;31mTypeError\u001b[0m: unsupported operand type(s) for -: 'str' and 'str'"
          ]
        }
      ]
    },
    {
      "cell_type": "code",
      "metadata": {
        "id": "NsyNzg4nOEIC"
      },
      "source": [
        "a * b"
      ],
      "execution_count": null,
      "outputs": []
    },
    {
      "cell_type": "code",
      "metadata": {
        "id": "mtfQZmoWOGQj"
      },
      "source": [
        "a / b"
      ],
      "execution_count": null,
      "outputs": []
    },
    {
      "cell_type": "markdown",
      "metadata": {
        "id": "FEUujjHMOHaF"
      },
      "source": [
        "### 5-1. 다음과 같은 경우는 어떻게 될까요?"
      ]
    },
    {
      "cell_type": "code",
      "metadata": {
        "id": "4RjDCe4KONdI"
      },
      "source": [
        "a = '10'\n",
        "b = '20'"
      ],
      "execution_count": null,
      "outputs": []
    },
    {
      "cell_type": "code",
      "metadata": {
        "id": "uTBZ7-FlORDW"
      },
      "source": [
        "a + b"
      ],
      "execution_count": null,
      "outputs": []
    },
    {
      "cell_type": "code",
      "source": [],
      "metadata": {
        "id": "EVx0edOtmSr5"
      },
      "execution_count": null,
      "outputs": []
    }
  ]
}