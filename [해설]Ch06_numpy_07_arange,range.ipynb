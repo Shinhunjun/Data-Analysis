{
  "nbformat": 4,
  "nbformat_minor": 0,
  "metadata": {
    "colab": {
      "provenance": [],
      "include_colab_link": true
    },
    "kernelspec": {
      "name": "python3",
      "display_name": "Python 3"
    }
  },
  "cells": [
    {
      "cell_type": "markdown",
      "metadata": {
        "id": "view-in-github",
        "colab_type": "text"
      },
      "source": [
        "<a href=\"https://colab.research.google.com/github/Shinhunjun/Data-Analysis_Study/blob/main/%5B%E1%84%92%E1%85%A2%E1%84%89%E1%85%A5%E1%86%AF%5DCh06_numpy_07_arange%2Crange.ipynb\" target=\"_parent\"><img src=\"https://colab.research.google.com/assets/colab-badge.svg\" alt=\"Open In Colab\"/></a>"
      ]
    },
    {
      "cell_type": "code",
      "metadata": {
        "id": "q9-VjchqYrZc"
      },
      "source": [
        "import numpy as np"
      ],
      "execution_count": 2,
      "outputs": []
    },
    {
      "cell_type": "markdown",
      "metadata": {
        "id": "Jlkq_eLvZAXJ"
      },
      "source": [
        "## 1. arange란?"
      ]
    },
    {
      "cell_type": "markdown",
      "metadata": {
        "id": "qHT2C5eSZCwp"
      },
      "source": [
        "arange와 range를 같이 보고 이해하시면 됩니다.\n",
        "(당연히 개념도 매우 직관적이고 쉽습니다)"
      ]
    },
    {
      "cell_type": "markdown",
      "metadata": {
        "id": "7ASNxnlzZMiI"
      },
      "source": [
        "**[실제 상황 예시]**\n",
        "\n",
        "우리는 순차적인 값을 생성할 때가 많습니다. 예를 들면 다음과 같습니다.\n",
        "\n",
        "1. 회원에 대한 가입 번호 부여 (1번 회원부터 순차적으로~)\n",
        "2. 100개 한정 판매 상품에 대한 고유 번호 부여\n",
        "\n",
        "등등.. 이 밖에도 데이터 관리를 위한 인덱스를 차례대로 부여하는 것은 매우 흔한 일입니다. (심지어, 엑셀에서도 왼쪽 행에 1번부터~ 쭈욱 부여 되죠?)"
      ]
    },
    {
      "cell_type": "markdown",
      "metadata": {
        "id": "JJMFhTTMadAu"
      },
      "source": [
        "### 1-1. 순서대로 리스트에 값을 생성하려면?"
      ]
    },
    {
      "cell_type": "markdown",
      "metadata": {
        "id": "nyBZLk2oc2sb"
      },
      "source": [
        "1~10까지 값을 생성하려면?"
      ]
    },
    {
      "cell_type": "code",
      "metadata": {
        "id": "DUPdcWj3b8YI"
      },
      "source": [
        "arr = [1, 2, 3, 4, 5, 6, 7, 8, 9, 10]"
      ],
      "execution_count": 3,
      "outputs": []
    },
    {
      "cell_type": "code",
      "metadata": {
        "id": "I66ivEa8c8Ok",
        "outputId": "5a30374f-c521-4bbe-e33c-8f0d9611caf5",
        "colab": {
          "base_uri": "https://localhost:8080/"
        }
      },
      "source": [
        "arr"
      ],
      "execution_count": 4,
      "outputs": [
        {
          "output_type": "execute_result",
          "data": {
            "text/plain": [
              "[1, 2, 3, 4, 5, 6, 7, 8, 9, 10]"
            ]
          },
          "metadata": {},
          "execution_count": 4
        }
      ]
    },
    {
      "cell_type": "markdown",
      "metadata": {
        "id": "toy77tE5c_DW"
      },
      "source": [
        "### 1-2. arange를 사용해서 쉽게 생성하기"
      ]
    },
    {
      "cell_type": "markdown",
      "metadata": {
        "id": "E0cdCSnVdHlK"
      },
      "source": [
        "첫번째 인자에는 **start 이상**, 두번째 인자에는 **stop의 미만** 이 들어갑니다."
      ]
    },
    {
      "cell_type": "code",
      "metadata": {
        "id": "EoH_TE8edDDm"
      },
      "source": [
        "arr = np.arange(11, 1)"
      ],
      "execution_count": 5,
      "outputs": []
    },
    {
      "cell_type": "code",
      "metadata": {
        "id": "WPgM5vvfdGGX",
        "outputId": "baffba93-1641-4132-8041-3b00bdf7a643",
        "colab": {
          "base_uri": "https://localhost:8080/"
        }
      },
      "source": [
        "arr"
      ],
      "execution_count": 6,
      "outputs": [
        {
          "output_type": "execute_result",
          "data": {
            "text/plain": [
              "array([], dtype=int64)"
            ]
          },
          "metadata": {},
          "execution_count": 6
        }
      ]
    },
    {
      "cell_type": "markdown",
      "metadata": {
        "id": "P9jsPX9jdGfH"
      },
      "source": [
        "## 1-3. keyword 인자를 사용해보기"
      ]
    },
    {
      "cell_type": "markdown",
      "metadata": {
        "id": "BSsXCqTUdpWf"
      },
      "source": [
        "keyword 인자는 파라미터(인자)의 keyword를 지정해줌으로썬 순서 없이 지정해 줄 수 있습니다."
      ]
    },
    {
      "cell_type": "code",
      "metadata": {
        "id": "XquA7klSdwoP"
      },
      "source": [
        "arr = np.arange(start=1, stop=11)"
      ],
      "execution_count": null,
      "outputs": []
    },
    {
      "cell_type": "code",
      "metadata": {
        "id": "KBJ169jBd22H",
        "outputId": "c7816aa5-104d-4624-cfa6-4163db78a61b",
        "colab": {
          "base_uri": "https://localhost:8080/",
          "height": 34
        }
      },
      "source": [
        "arr"
      ],
      "execution_count": null,
      "outputs": [
        {
          "output_type": "execute_result",
          "data": {
            "text/plain": [
              "array([ 1,  2,  3,  4,  5,  6,  7,  8,  9, 10])"
            ]
          },
          "metadata": {
            "tags": []
          },
          "execution_count": 8
        }
      ]
    },
    {
      "cell_type": "code",
      "metadata": {
        "id": "KLxLL3H4d3VP"
      },
      "source": [
        "arr = np.arange(stop=11, start=1)"
      ],
      "execution_count": null,
      "outputs": []
    },
    {
      "cell_type": "code",
      "metadata": {
        "id": "cM79U_lhd8Ho",
        "outputId": "e38a4567-3e0e-465e-aba7-70fbcb92c008",
        "colab": {
          "base_uri": "https://localhost:8080/",
          "height": 34
        }
      },
      "source": [
        "arr"
      ],
      "execution_count": null,
      "outputs": [
        {
          "output_type": "execute_result",
          "data": {
            "text/plain": [
              "array([ 1,  2,  3,  4,  5,  6,  7,  8,  9, 10])"
            ]
          },
          "metadata": {
            "tags": []
          },
          "execution_count": 12
        }
      ]
    },
    {
      "cell_type": "markdown",
      "metadata": {
        "id": "1cfrkQUTd8u3"
      },
      "source": [
        "### 1-4. 홀수의 값만 생성"
      ]
    },
    {
      "cell_type": "markdown",
      "metadata": {
        "id": "qnni1pROeDNH"
      },
      "source": [
        "1~10 사이의 값중 홀수만 생성해 보세요."
      ]
    },
    {
      "cell_type": "markdown",
      "metadata": {
        "id": "lSMgWdW_eGxu"
      },
      "source": [
        "**step 키워드 활용**"
      ]
    },
    {
      "cell_type": "code",
      "metadata": {
        "id": "4nCoMlY6eKEG"
      },
      "source": [
        "arr = np.arange(1, 11, 2)"
      ],
      "execution_count": null,
      "outputs": []
    },
    {
      "cell_type": "code",
      "metadata": {
        "id": "bbD_pVlCeNjf",
        "outputId": "550708e0-2217-477a-a48b-77f91f899c7d",
        "colab": {
          "base_uri": "https://localhost:8080/",
          "height": 34
        }
      },
      "source": [
        "arr"
      ],
      "execution_count": null,
      "outputs": [
        {
          "output_type": "execute_result",
          "data": {
            "text/plain": [
              "array([1, 3, 5, 7, 9])"
            ]
          },
          "metadata": {
            "tags": []
          },
          "execution_count": 14
        }
      ]
    },
    {
      "cell_type": "code",
      "metadata": {
        "id": "Km2Y-H9GeOJw"
      },
      "source": [
        "arr = np.arange(start=1, stop=11, step=2)"
      ],
      "execution_count": null,
      "outputs": []
    },
    {
      "cell_type": "code",
      "metadata": {
        "id": "qFkEtpj6eRf5",
        "outputId": "9891adbb-c379-46cc-c2f7-3d161ef532d1",
        "colab": {
          "base_uri": "https://localhost:8080/",
          "height": 34
        }
      },
      "source": [
        "arr"
      ],
      "execution_count": null,
      "outputs": [
        {
          "output_type": "execute_result",
          "data": {
            "text/plain": [
              "array([1, 3, 5, 7, 9])"
            ]
          },
          "metadata": {
            "tags": []
          },
          "execution_count": 16
        }
      ]
    },
    {
      "cell_type": "code",
      "metadata": {
        "id": "Z5NQmpdQeR7Y"
      },
      "source": [],
      "execution_count": null,
      "outputs": []
    },
    {
      "cell_type": "code",
      "metadata": {
        "id": "4-WYOzdzeW8Y"
      },
      "source": [],
      "execution_count": null,
      "outputs": []
    },
    {
      "cell_type": "markdown",
      "metadata": {
        "id": "CGXt-yz1eW-u"
      },
      "source": [
        "## 2. range (numpy와는 상관없는 python 문법)"
      ]
    },
    {
      "cell_type": "markdown",
      "metadata": {
        "id": "C2d4HSjbeXBG"
      },
      "source": [
        "* range는 말 그대로 범위를 지정해 주는 것입니다.\n",
        "* np.arange와 헷갈리시는 분들이 많아 이번 시간에 같이 다룹니다.\n",
        "* 보통 for in 의 반복문에서 많이 사용됩니다."
      ]
    },
    {
      "cell_type": "code",
      "metadata": {
        "id": "7QyWC0d-eXDe"
      },
      "source": [
        "arr = np.arange(1, 11)"
      ],
      "execution_count": null,
      "outputs": []
    },
    {
      "cell_type": "code",
      "metadata": {
        "id": "ZDpnpl6delRP",
        "outputId": "974f03db-621d-43ea-cdd2-cd153edfdf37",
        "colab": {
          "base_uri": "https://localhost:8080/",
          "height": 34
        }
      },
      "source": [
        "arr"
      ],
      "execution_count": null,
      "outputs": [
        {
          "output_type": "execute_result",
          "data": {
            "text/plain": [
              "array([ 1,  2,  3,  4,  5,  6,  7,  8,  9, 10])"
            ]
          },
          "metadata": {
            "tags": []
          },
          "execution_count": 18
        }
      ]
    },
    {
      "cell_type": "code",
      "metadata": {
        "id": "ryyFPjKYfBIn",
        "outputId": "53056594-6cda-41ed-fd86-b188e41e1b87",
        "colab": {
          "base_uri": "https://localhost:8080/",
          "height": 193
        }
      },
      "source": [
        "for i in arr:\n",
        "    print(i)"
      ],
      "execution_count": null,
      "outputs": [
        {
          "output_type": "stream",
          "text": [
            "1\n",
            "2\n",
            "3\n",
            "4\n",
            "5\n",
            "6\n",
            "7\n",
            "8\n",
            "9\n",
            "10\n"
          ],
          "name": "stdout"
        }
      ]
    },
    {
      "cell_type": "markdown",
      "metadata": {
        "id": "pILEfkE2fEfd"
      },
      "source": [
        "### 2-1. range 구문 활용시"
      ]
    },
    {
      "cell_type": "code",
      "metadata": {
        "id": "vZl0-whyelvu",
        "outputId": "7e2f648b-ca3f-4464-b700-25a682f748d5",
        "colab": {
          "base_uri": "https://localhost:8080/",
          "height": 193
        }
      },
      "source": [
        "for i in range(1, 11):\n",
        "    print(i)"
      ],
      "execution_count": null,
      "outputs": [
        {
          "output_type": "stream",
          "text": [
            "1\n",
            "2\n",
            "3\n",
            "4\n",
            "5\n",
            "6\n",
            "7\n",
            "8\n",
            "9\n",
            "10\n"
          ],
          "name": "stdout"
        }
      ]
    },
    {
      "cell_type": "code",
      "metadata": {
        "id": "FqCegWlvepj3",
        "outputId": "8326ecbe-682a-4c10-fd55-a951a3489939",
        "colab": {
          "base_uri": "https://localhost:8080/",
          "height": 105
        }
      },
      "source": [
        "for i in range(1, 11, 2):\n",
        "    print(i)"
      ],
      "execution_count": null,
      "outputs": [
        {
          "output_type": "stream",
          "text": [
            "1\n",
            "3\n",
            "5\n",
            "7\n",
            "9\n"
          ],
          "name": "stdout"
        }
      ]
    },
    {
      "cell_type": "code",
      "metadata": {
        "id": "7JwLUTzfp6u2"
      },
      "source": [],
      "execution_count": null,
      "outputs": []
    }
  ]
}