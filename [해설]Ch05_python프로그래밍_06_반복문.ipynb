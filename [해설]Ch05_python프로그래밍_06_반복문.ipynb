{
  "nbformat": 4,
  "nbformat_minor": 0,
  "metadata": {
    "colab": {
      "provenance": [],
      "include_colab_link": true
    },
    "kernelspec": {
      "name": "python3",
      "display_name": "Python 3"
    }
  },
  "cells": [
    {
      "cell_type": "markdown",
      "metadata": {
        "id": "view-in-github",
        "colab_type": "text"
      },
      "source": [
        "<a href=\"https://colab.research.google.com/github/Shinhunjun/Data-Analysis_Study/blob/main/%5B%E1%84%92%E1%85%A2%E1%84%89%E1%85%A5%E1%86%AF%5DCh05_python%E1%84%91%E1%85%B3%E1%84%85%E1%85%A9%E1%84%80%E1%85%B3%E1%84%85%E1%85%A2%E1%84%86%E1%85%B5%E1%86%BC_06_%E1%84%87%E1%85%A1%E1%86%AB%E1%84%87%E1%85%A9%E1%86%A8%E1%84%86%E1%85%AE%E1%86%AB.ipynb\" target=\"_parent\"><img src=\"https://colab.research.google.com/assets/colab-badge.svg\" alt=\"Open In Colab\"/></a>"
      ]
    },
    {
      "cell_type": "markdown",
      "metadata": {
        "id": "GGwhVABx8Ucj"
      },
      "source": [
        "## 1. 반복문이란?"
      ]
    },
    {
      "cell_type": "markdown",
      "metadata": {
        "id": "MPve6nk48nWY"
      },
      "source": [
        "* 반복해야 하는 일을 반복하는 것\n",
        "* 반드시 list, dict, set 등 집합에 대한 순회를 돌며 일을 처리할 때 많이 쓰입니다."
      ]
    },
    {
      "cell_type": "code",
      "metadata": {
        "id": "r9jXJ8L49VLE"
      },
      "source": [
        "mylist = [1, 2, 3, 4, 5, 6, 7, 8, 9, 10]"
      ],
      "execution_count": null,
      "outputs": []
    },
    {
      "cell_type": "markdown",
      "metadata": {
        "id": "1tqhcEyv9asJ"
      },
      "source": [
        "mylist에 들어 있는 모든 값들을 출력하려고 한다면?"
      ]
    },
    {
      "cell_type": "code",
      "metadata": {
        "id": "JWqvzMQ-9gq_",
        "outputId": "32bcb280-aae3-426e-9fe7-37920cd858b0",
        "colab": {
          "base_uri": "https://localhost:8080/",
          "height": 122
        }
      },
      "source": [
        "print(mylist[0])\n",
        "print(mylist[1])\n",
        "print(mylist[2])\n",
        "print('...')\n",
        "print(mylist[8])\n",
        "print(mylist[9])"
      ],
      "execution_count": null,
      "outputs": [
        {
          "output_type": "stream",
          "text": [
            "1\n",
            "2\n",
            "3\n",
            "...\n",
            "9\n",
            "10\n"
          ],
          "name": "stdout"
        }
      ]
    },
    {
      "cell_type": "markdown",
      "metadata": {
        "id": "D1NL7BS-9m0l"
      },
      "source": [
        "노가다를 획기적으로 줄여주는 방법!!!"
      ]
    },
    {
      "cell_type": "markdown",
      "metadata": {
        "id": "2eRNROEc9vaB"
      },
      "source": [
        "## 2. for 와 in을 활용하자!"
      ]
    },
    {
      "cell_type": "markdown",
      "metadata": {
        "id": "EmihJIWJ9zSI"
      },
      "source": [
        "**[기본 문법]**<br>\n",
        "for 하나씩 꺼내올 때 변수 in [꺼내올 집합]"
      ]
    },
    {
      "cell_type": "code",
      "metadata": {
        "id": "iTlh4hYF-DnP"
      },
      "source": [
        "mylist = [1, 2, 3, 4, 5, 6, 7, 8, 9, 10]"
      ],
      "execution_count": null,
      "outputs": []
    },
    {
      "cell_type": "code",
      "metadata": {
        "id": "qk2ljaev93th",
        "outputId": "3870eb52-b4f4-4bcb-a620-ad15edf4040b",
        "colab": {
          "base_uri": "https://localhost:8080/",
          "height": 369
        }
      },
      "source": [
        "for abc in mylist:\n",
        "    print(abc)"
      ],
      "execution_count": null,
      "outputs": [
        {
          "output_type": "stream",
          "text": [
            "1\n",
            "2\n",
            "2\n",
            "3\n",
            "3\n",
            "4\n",
            "4\n",
            "5\n",
            "5\n",
            "6\n",
            "6\n",
            "7\n",
            "7\n",
            "8\n",
            "8\n",
            "9\n",
            "9\n",
            "10\n",
            "10\n",
            "11\n"
          ],
          "name": "stdout"
        }
      ]
    },
    {
      "cell_type": "markdown",
      "metadata": {
        "id": "-dT8rGyO-MP4"
      },
      "source": [
        "## 3. 반복문에서 짝수만 출력하려면?"
      ]
    },
    {
      "cell_type": "code",
      "metadata": {
        "id": "AltNBV5C-Pqt"
      },
      "source": [
        "mylist = [1, 2, 3, 4, 5, 6, 7, 8, 9, 10]"
      ],
      "execution_count": null,
      "outputs": []
    },
    {
      "cell_type": "code",
      "metadata": {
        "id": "Zbl8FHV0-cT1",
        "outputId": "74b2b8b9-7ab3-4731-8593-04ba9575eb9a",
        "colab": {
          "base_uri": "https://localhost:8080/",
          "height": 105
        }
      },
      "source": [
        "for i in mylist:\n",
        "    # your code here #\n",
        "    if i % 2 == 0:\n",
        "        print(i)\n",
        "    ##################"
      ],
      "execution_count": null,
      "outputs": [
        {
          "output_type": "stream",
          "text": [
            "2\n",
            "4\n",
            "6\n",
            "8\n",
            "10\n"
          ],
          "name": "stdout"
        }
      ]
    },
    {
      "cell_type": "markdown",
      "metadata": {
        "id": "DGHNctqg-qnX"
      },
      "source": [
        "**continue** 라는 구문을 통해 아래 로직은 SKIP할 수 있습니다."
      ]
    },
    {
      "cell_type": "code",
      "metadata": {
        "id": "RWgPVawJ-jRT",
        "outputId": "7e843b62-23d7-407f-c1b8-a055f5e9e66d",
        "colab": {
          "base_uri": "https://localhost:8080/",
          "height": 105
        }
      },
      "source": [
        "for i in mylist:\n",
        "    # your code here #\n",
        "    if i % 2 == 1:\n",
        "        continue\n",
        "    ##################\n",
        "    print(i)"
      ],
      "execution_count": null,
      "outputs": [
        {
          "output_type": "stream",
          "text": [
            "2\n",
            "4\n",
            "6\n",
            "8\n",
            "10\n"
          ],
          "name": "stdout"
        }
      ]
    },
    {
      "cell_type": "markdown",
      "metadata": {
        "id": "xaDtUK2y-yRo"
      },
      "source": [
        "## 4. break로 조건에 해당하면 빠져나와보자!"
      ]
    },
    {
      "cell_type": "code",
      "metadata": {
        "id": "g8rLTYZg-2R7"
      },
      "source": [
        "mylist = [1, 2, 3, 4, 5, 6, 7, 8, 9, 10]"
      ],
      "execution_count": null,
      "outputs": []
    },
    {
      "cell_type": "markdown",
      "metadata": {
        "id": "tGdZ0d1S-59J"
      },
      "source": [
        "i가 6 이상이면 STOP"
      ]
    },
    {
      "cell_type": "code",
      "metadata": {
        "id": "LyTOiLaC-4hd",
        "outputId": "eaddc0e2-097c-40f2-ffe7-182ba29ef095",
        "colab": {
          "base_uri": "https://localhost:8080/",
          "height": 122
        }
      },
      "source": [
        "for i in mylist:\n",
        "    if i >= 6:\n",
        "        print('break')\n",
        "        break\n",
        "    print(i)"
      ],
      "execution_count": null,
      "outputs": [
        {
          "output_type": "stream",
          "text": [
            "1\n",
            "2\n",
            "3\n",
            "4\n",
            "5\n",
            "break\n"
          ],
          "name": "stdout"
        }
      ]
    }
  ]
}