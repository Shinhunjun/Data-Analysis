{
 "cells": [
  {
   "cell_type": "code",
   "execution_count": 1,
   "id": "e39e5a87",
   "metadata": {
    "_cell_guid": "b1076dfc-b9ad-4769-8c92-a6c4dae69d19",
    "_uuid": "8f2839f25d086af736a60e9eeb907d3b93b6e0e5",
    "execution": {
     "iopub.execute_input": "2022-11-27T04:40:51.900901Z",
     "iopub.status.busy": "2022-11-27T04:40:51.900272Z",
     "iopub.status.idle": "2022-11-27T04:40:51.914615Z",
     "shell.execute_reply": "2022-11-27T04:40:51.913398Z"
    },
    "papermill": {
     "duration": 0.023602,
     "end_time": "2022-11-27T04:40:51.917172",
     "exception": false,
     "start_time": "2022-11-27T04:40:51.893570",
     "status": "completed"
    },
    "tags": []
   },
   "outputs": [],
   "source": [
    "# This Python 3 environment comes with many helpful analytics libraries installed\n",
    "# It is defined by the kaggle/python Docker image: https://github.com/kaggle/docker-python\n",
    "# For example, here's several helpful packages to load\n",
    "\n",
    "import numpy as np # linear algebra\n",
    "import pandas as pd # data processing, CSV file I/O (e.g. pd.read_csv)\n",
    "\n",
    "# Input data files are available in the read-only \"../input/\" directory\n",
    "# For example, running this (by clicking run or pressing Shift+Enter) will list all files under the input directory\n",
    "\n",
    "import os\n",
    "for dirname, _, filenames in os.walk('/kaggle/input'):\n",
    "    for filename in filenames:\n",
    "        print(os.path.join(dirname, filename))\n",
    "\n",
    "# You can write up to 20GB to the current directory (/kaggle/working/) that gets preserved as output when you create a version using \"Save & Run All\" \n",
    "# You can also write temporary files to /kaggle/temp/, but they won't be saved outside of the current session"
   ]
  },
  {
   "cell_type": "code",
   "execution_count": 2,
   "id": "b8c40762",
   "metadata": {
    "execution": {
     "iopub.execute_input": "2022-11-27T04:40:51.925421Z",
     "iopub.status.busy": "2022-11-27T04:40:51.925044Z",
     "iopub.status.idle": "2022-11-27T04:40:55.223247Z",
     "shell.execute_reply": "2022-11-27T04:40:55.221951Z"
    },
    "papermill": {
     "duration": 3.305713,
     "end_time": "2022-11-27T04:40:55.226407",
     "exception": false,
     "start_time": "2022-11-27T04:40:51.920694",
     "status": "completed"
    },
    "tags": []
   },
   "outputs": [
    {
     "name": "stdout",
     "output_type": "stream",
     "text": [
      "   survived  pclass     sex   age  sibsp  parch     fare embarked  class  \\\n",
      "0         0       3    male  22.0      1      0   7.2500        S  Third   \n",
      "1         1       1  female  38.0      1      0  71.2833        C  First   \n",
      "2         1       3  female  26.0      0      0   7.9250        S  Third   \n",
      "3         1       1  female  35.0      1      0  53.1000        S  First   \n",
      "4         0       3    male  35.0      0      0   8.0500        S  Third   \n",
      "\n",
      "     who  adult_male deck  embark_town alive  alone  \n",
      "0    man        True  NaN  Southampton    no  False  \n",
      "1  woman       False    C    Cherbourg   yes  False  \n",
      "2  woman       False  NaN  Southampton   yes   True  \n",
      "3  woman       False    C  Southampton   yes  False  \n",
      "4    man        True  NaN  Southampton    no   True  \n"
     ]
    }
   ],
   "source": [
    "import seaborn as sns\n",
    "titanic = sns.load_dataset('titanic');\n",
    "print(titanic.head())"
   ]
  },
  {
   "cell_type": "code",
   "execution_count": 3,
   "id": "63024d0c",
   "metadata": {
    "execution": {
     "iopub.execute_input": "2022-11-27T04:40:55.235112Z",
     "iopub.status.busy": "2022-11-27T04:40:55.234707Z",
     "iopub.status.idle": "2022-11-27T04:40:55.522049Z",
     "shell.execute_reply": "2022-11-27T04:40:55.520735Z"
    },
    "papermill": {
     "duration": 0.294378,
     "end_time": "2022-11-27T04:40:55.524578",
     "exception": false,
     "start_time": "2022-11-27T04:40:55.230200",
     "status": "completed"
    },
    "tags": []
   },
   "outputs": [
    {
     "data": {
      "text/plain": [
       "<AxesSubplot:xlabel='age', ylabel='Count'>"
      ]
     },
     "execution_count": 3,
     "metadata": {},
     "output_type": "execute_result"
    },
    {
     "data": {
      "image/png": "[encoded data removed]",
      "text/plain": [
       "<Figure size 432x288 with 1 Axes>"
      ]
     },
     "metadata": {
      "needs_background": "light"
     },
     "output_type": "display_data"
    }
   ],
   "source": [
    "sns.histplot(data=titanic, x='age')"
   ]
  },
  {
   "cell_type": "code",
   "execution_count": 4,
   "id": "af091bcc",
   "metadata": {
    "execution": {
     "iopub.execute_input": "2022-11-27T04:40:55.533801Z",
     "iopub.status.busy": "2022-11-27T04:40:55.533400Z",
     "iopub.status.idle": "2022-11-27T04:40:55.918966Z",
     "shell.execute_reply": "2022-11-27T04:40:55.918007Z"
    },
    "papermill": {
     "duration": 0.393104,
     "end_time": "2022-11-27T04:40:55.921548",
     "exception": false,
     "start_time": "2022-11-27T04:40:55.528444",
     "status": "completed"
    },
    "tags": []
   },
   "outputs": [
    {
     "data": {
      "text/plain": [
       "<AxesSubplot:xlabel='age', ylabel='Count'>"
      ]
     },
     "execution_count": 4,
     "metadata": {},
     "output_type": "execute_result"
    },
    {
     "data": {
      "image/png": "[encoded data removed]",
      "text/plain": [
       "<Figure size 432x288 with 1 Axes>"
      ]
     },
     "metadata": {
      "needs_background": "light"
     },
     "output_type": "display_data"
    }
   ],
   "source": [
    "sns.histplot(data=titanic, x='age', hue='alive')"
   ]
  },
  {
   "cell_type": "code",
   "execution_count": 5,
   "id": "07ebf62c",
   "metadata": {
    "execution": {
     "iopub.execute_input": "2022-11-27T04:40:55.931467Z",
     "iopub.status.busy": "2022-11-27T04:40:55.931051Z",
     "iopub.status.idle": "2022-11-27T04:40:56.280197Z",
     "shell.execute_reply": "2022-11-27T04:40:56.279150Z"
    },
    "papermill": {
     "duration": 0.357014,
     "end_time": "2022-11-27T04:40:56.282719",
     "exception": false,
     "start_time": "2022-11-27T04:40:55.925705",
     "status": "completed"
    },
    "tags": []
   },
   "outputs": [
    {
     "data": {
      "text/plain": [
       "<seaborn.axisgrid.FacetGrid at 0x7f4ec0719e10>"
      ]
     },
     "execution_count": 5,
     "metadata": {},
     "output_type": "execute_result"
    },
    {
     "data": {
      "image/png": "[encoded data removed]",
      "text/plain": [
       "<Figure size 360x360 with 1 Axes>"
      ]
     },
     "metadata": {
      "needs_background": "light"
     },
     "output_type": "display_data"
    }
   ],
   "source": [
    "sns.displot(data=titanic, x='age', kde='true')"
   ]
  },
  {
   "cell_type": "code",
   "execution_count": 6,
   "id": "71696c75",
   "metadata": {
    "execution": {
     "iopub.execute_input": "2022-11-27T04:40:56.293615Z",
     "iopub.status.busy": "2022-11-27T04:40:56.293214Z",
     "iopub.status.idle": "2022-11-27T04:40:56.541077Z",
     "shell.execute_reply": "2022-11-27T04:40:56.539958Z"
    },
    "papermill": {
     "duration": 0.256153,
     "end_time": "2022-11-27T04:40:56.543549",
     "exception": false,
     "start_time": "2022-11-27T04:40:56.287396",
     "status": "completed"
    },
    "tags": []
   },
   "outputs": [
    {
     "data": {
      "text/plain": [
       "<AxesSubplot:xlabel='class', ylabel='fare'>"
      ]
     },
     "execution_count": 6,
     "metadata": {},
     "output_type": "execute_result"
    },
    {
     "data": {
      "image/png": "[encoded data removed]",
      "text/plain": [
       "<Figure size 432x288 with 1 Axes>"
      ]
     },
     "metadata": {
      "needs_background": "light"
     },
     "output_type": "display_data"
    }
   ],
   "source": [
    "sns.barplot(x='class', y='fare', data=titanic)"
   ]
  },
  {
   "cell_type": "code",
   "execution_count": 7,
   "id": "44980a0a",
   "metadata": {
    "execution": {
     "iopub.execute_input": "2022-11-27T04:40:56.554840Z",
     "iopub.status.busy": "2022-11-27T04:40:56.554441Z",
     "iopub.status.idle": "2022-11-27T04:40:56.757649Z",
     "shell.execute_reply": "2022-11-27T04:40:56.756245Z"
    },
    "papermill": {
     "duration": 0.212689,
     "end_time": "2022-11-27T04:40:56.761081",
     "exception": false,
     "start_time": "2022-11-27T04:40:56.548392",
     "status": "completed"
    },
    "tags": []
   },
   "outputs": [
    {
     "data": {
      "text/plain": [
       "<AxesSubplot:xlabel='class', ylabel='fare'>"
      ]
     },
     "execution_count": 7,
     "metadata": {},
     "output_type": "execute_result"
    },
    {
     "data": {
      "image/png": "[encoded data removed]",
      "text/plain": [
       "<Figure size 432x288 with 1 Axes>"
      ]
     },
     "metadata": {
      "needs_background": "light"
     },
     "output_type": "display_data"
    }
   ],
   "source": [
    "sns.pointplot(x='class', y='fare', data=titanic)"
   ]
  },
  {
   "cell_type": "code",
   "execution_count": 8,
   "id": "5ebcd63e",
   "metadata": {
    "execution": {
     "iopub.execute_input": "2022-11-27T04:40:56.780945Z",
     "iopub.status.busy": "2022-11-27T04:40:56.779894Z",
     "iopub.status.idle": "2022-11-27T04:40:56.984418Z",
     "shell.execute_reply": "2022-11-27T04:40:56.983564Z"
    },
    "papermill": {
     "duration": 0.217386,
     "end_time": "2022-11-27T04:40:56.987206",
     "exception": false,
     "start_time": "2022-11-27T04:40:56.769820",
     "status": "completed"
    },
    "tags": []
   },
   "outputs": [
    {
     "data": {
      "text/plain": [
       "<AxesSubplot:xlabel='class', ylabel='fare'>"
      ]
     },
     "execution_count": 8,
     "metadata": {},
     "output_type": "execute_result"
    },
    {
     "data": {
      "image/png": "[encoded data removed]",
      "text/plain": [
       "<Figure size 432x288 with 1 Axes>"
      ]
     },
     "metadata": {
      "needs_background": "light"
     },
     "output_type": "display_data"
    }
   ],
   "source": [
    "sns.boxplot(x='class', y='fare', data=titanic)"
   ]
  },
  {
   "cell_type": "code",
   "execution_count": 9,
   "id": "d531c77f",
   "metadata": {
    "execution": {
     "iopub.execute_input": "2022-11-27T04:40:57.001411Z",
     "iopub.status.busy": "2022-11-27T04:40:57.000790Z",
     "iopub.status.idle": "2022-11-27T04:40:57.166213Z",
     "shell.execute_reply": "2022-11-27T04:40:57.164981Z"
    },
    "papermill": {
     "duration": 0.175477,
     "end_time": "2022-11-27T04:40:57.169443",
     "exception": false,
     "start_time": "2022-11-27T04:40:56.993966",
     "status": "completed"
    },
    "tags": []
   },
   "outputs": [
    {
     "data": {
      "text/plain": [
       "<AxesSubplot:xlabel='class', ylabel='count'>"
      ]
     },
     "execution_count": 9,
     "metadata": {},
     "output_type": "execute_result"
    },
    {
     "data": {
      "image/png": "[encoded data removed]",
      "text/plain": [
       "<Figure size 432x288 with 1 Axes>"
      ]
     },
     "metadata": {
      "needs_background": "light"
     },
     "output_type": "display_data"
    }
   ],
   "source": [
    "sns.countplot(x='class', data=titanic)"
   ]
  },
  {
   "cell_type": "code",
   "execution_count": null,
   "id": "13d9bb9d",
   "metadata": {
    "papermill": {
     "duration": 0.005375,
     "end_time": "2022-11-27T04:40:57.180694",
     "exception": false,
     "start_time": "2022-11-27T04:40:57.175319",
     "status": "completed"
    },
    "tags": []
   },
   "outputs": [],
   "source": []
  }
 ],
 "metadata": {
  "kernelspec": {
   "display_name": "Python 3",
   "language": "python",
   "name": "python3"
  },
  "language_info": {
   "codemirror_mode": {
    "name": "ipython",
    "version": 3
   },
   "file_extension": ".py",
   "mimetype": "text/x-python",
   "name": "python",
   "nbconvert_exporter": "python",
   "pygments_lexer": "ipython3",
   "version": "3.7.12"
  },
  "papermill": {
   "default_parameters": {},
   "duration": 14.450586,
   "end_time": "2022-11-27T04:40:57.910161",
   "environment_variables": {},
   "exception": null,
   "input_path": "__notebook__.ipynb",
   "output_path": "__notebook__.ipynb",
   "parameters": {},
   "start_time": "2022-11-27T04:40:43.459575",
   "version": "2.3.4"
  }
 },
 "nbformat": 4,
 "nbformat_minor": 5
}
