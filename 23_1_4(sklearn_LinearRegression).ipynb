{
  "nbformat": 4,
  "nbformat_minor": 0,
  "metadata": {
    "colab": {
      "provenance": [],
      "include_colab_link": true
    },
    "kernelspec": {
      "name": "python3",
      "display_name": "Python 3"
    }
  },
  "cells": [
    {
      "cell_type": "markdown",
      "metadata": {
        "id": "view-in-github",
        "colab_type": "text"
      },
      "source": [
        "<a href=\"https://colab.research.google.com/github/Shinhunjun/Data-Analysis_Study/blob/main/23_1_4(sklearn_LinearRegression).ipynb\" target=\"_parent\"><img src=\"https://colab.research.google.com/assets/colab-badge.svg\" alt=\"Open In Colab\"/></a>"
      ]
    },
    {
      "cell_type": "code",
      "metadata": {
        "id": "e7FbfkBhIkTs"
      },
      "source": [
        "import numpy as np\n",
        "from sklearn.linear_model import LinearRegression"
      ],
      "execution_count": 1,
      "outputs": []
    },
    {
      "cell_type": "code",
      "metadata": {
        "id": "yRZSXmTTIyDs"
      },
      "source": [
        "x = np.arange(10).reshape(-1, 1)\n",
        "y = (2*x + 1).reshape(-1, 1)"
      ],
      "execution_count": 2,
      "outputs": []
    },
    {
      "cell_type": "code",
      "metadata": {
        "id": "zxeoKPMpI4o6",
        "colab": {
          "base_uri": "https://localhost:8080/"
        },
        "outputId": "1d6fd42b-edc9-49b9-f386-f1d2adc52f05"
      },
      "source": [
        "x"
      ],
      "execution_count": 3,
      "outputs": [
        {
          "output_type": "execute_result",
          "data": {
            "text/plain": [
              "array([[0],\n",
              "       [1],\n",
              "       [2],\n",
              "       [3],\n",
              "       [4],\n",
              "       [5],\n",
              "       [6],\n",
              "       [7],\n",
              "       [8],\n",
              "       [9]])"
            ]
          },
          "metadata": {},
          "execution_count": 3
        }
      ]
    },
    {
      "cell_type": "code",
      "metadata": {
        "id": "Nlx4kjkrI5N5",
        "colab": {
          "base_uri": "https://localhost:8080/"
        },
        "outputId": "2165298c-23da-4df1-a899-9df7b58d5f90"
      },
      "source": [
        "y"
      ],
      "execution_count": 5,
      "outputs": [
        {
          "output_type": "execute_result",
          "data": {
            "text/plain": [
              "array([[ 1],\n",
              "       [ 3],\n",
              "       [ 5],\n",
              "       [ 7],\n",
              "       [ 9],\n",
              "       [11],\n",
              "       [13],\n",
              "       [15],\n",
              "       [17],\n",
              "       [19]])"
            ]
          },
          "metadata": {},
          "execution_count": 5
        }
      ]
    },
    {
      "cell_type": "markdown",
      "metadata": {
        "id": "lrYy3kXBJMxu"
      },
      "source": [
        "## 모델의 선언, fit(학습), predict(예측)"
      ]
    },
    {
      "cell_type": "code",
      "metadata": {
        "id": "JJ9T6KAtI5hw"
      },
      "source": [
        "# 모델 선언\n",
        "model = LinearRegression()"
      ],
      "execution_count": 6,
      "outputs": []
    },
    {
      "cell_type": "code",
      "metadata": {
        "id": "5dhecI6k0a3J",
        "colab": {
          "base_uri": "https://localhost:8080/"
        },
        "outputId": "0e88c4d6-bf69-4aff-fcf3-1e196f08c2c2"
      },
      "source": [
        "model"
      ],
      "execution_count": 7,
      "outputs": [
        {
          "output_type": "execute_result",
          "data": {
            "text/plain": [
              "LinearRegression()"
            ]
          },
          "metadata": {},
          "execution_count": 7
        }
      ]
    },
    {
      "cell_type": "code",
      "metadata": {
        "id": "m9eilQAYI8W2",
        "colab": {
          "base_uri": "https://localhost:8080/"
        },
        "outputId": "2fda6bc3-bb2c-45b4-e17f-d57508eadc0e"
      },
      "source": [
        "# 학습\n",
        "model.fit(x, y)"
      ],
      "execution_count": 8,
      "outputs": [
        {
          "output_type": "execute_result",
          "data": {
            "text/plain": [
              "LinearRegression()"
            ]
          },
          "metadata": {},
          "execution_count": 8
        }
      ]
    },
    {
      "cell_type": "code",
      "metadata": {
        "id": "06JEQA_bI9mz"
      },
      "source": [
        "# 예측\n",
        "prediction = model.predict([[10.0]])"
      ],
      "execution_count": 9,
      "outputs": []
    },
    {
      "cell_type": "code",
      "metadata": {
        "id": "2l_GkdT7JX8q",
        "colab": {
          "base_uri": "https://localhost:8080/"
        },
        "outputId": "c1b699f4-27c9-4059-d2c5-c53d8fc5c016"
      },
      "source": [
        "prediction"
      ],
      "execution_count": 10,
      "outputs": [
        {
          "output_type": "execute_result",
          "data": {
            "text/plain": [
              "array([[21.]])"
            ]
          },
          "metadata": {},
          "execution_count": 10
        }
      ]
    },
    {
      "cell_type": "code",
      "metadata": {
        "id": "c_61c-i-Jp85"
      },
      "source": [],
      "execution_count": 10,
      "outputs": []
    }
  ]
}